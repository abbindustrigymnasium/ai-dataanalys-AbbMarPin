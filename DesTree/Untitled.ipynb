{
 "cells": [
  {
   "cell_type": "code",
   "execution_count": 8,
   "id": "floppy-amendment",
   "metadata": {},
   "outputs": [],
   "source": [
    "training_data = [    [54.4, 14.4, 'Kylrum'],    [45.4, 12.4, 'Kylrum'],    [89.4, 19.5, 'Klassrum'],\n",
    "[57.4, 18.1, 'Lärarrum'],     [22.4, 8.6, 'Kylrum'],    [24.4, 11.24, 'Kylrum'],    [84.4, 24.4,\n",
    "'Klassrum'],    [95.4, 22.4, 'Klassrum'],    [81.4, 20.1, 'Lärarrum'],    [70, 19.7, 'Lärarrum'],]\n",
    "\n",
    "testing_data = [    [30, 15.6, 'Kylrum'],    [50, 16, 'Klassrum'],    [89, 21, 'Klassrum'],    [81.7, 19,\n",
    "'Lärarrum'],    [87, 19.8, 'Lärarrum'],]\n"
   ]
  },
  {
   "cell_type": "code",
   "execution_count": 9,
   "id": "worst-verification",
   "metadata": {},
   "outputs": [],
   "source": [
    "def unique_vals(rows, col):\n",
    "    \"\"\"Find the unique values for a column in a dataset.\"\"\"\n",
    "    return set([row[col] for row in rows])"
   ]
  },
  {
   "cell_type": "code",
   "execution_count": 10,
   "id": "civilian-return",
   "metadata": {},
   "outputs": [],
   "source": [
    "header = [\"Hum\", \"Temp\", \"Rum\"]"
   ]
  },
  {
   "cell_type": "code",
   "execution_count": 11,
   "id": "amino-offer",
   "metadata": {},
   "outputs": [],
   "source": [
    "def class_counts(rows):\n",
    "    \"\"\"Counts the number of each type of example in a dataset.\"\"\"\n",
    "    counts = {}  # a dictionary of label -> count.\n",
    "    for row in rows:\n",
    "        # in our dataset format, the label is always the last column\n",
    "        label = row[-1]\n",
    "        if label not in counts:\n",
    "            counts[label] = 0\n",
    "        counts[label] += 1\n",
    "    return counts"
   ]
  },
  {
   "cell_type": "code",
   "execution_count": 12,
   "id": "substantial-place",
   "metadata": {},
   "outputs": [],
   "source": [
    "def is_numeric(value):\n",
    "    \"\"\"Test if a value is numeric.\"\"\"\n",
    "    return isinstance(value, int) or isinstance(value, float)"
   ]
  },
  {
   "cell_type": "code",
   "execution_count": 13,
   "id": "perceived-danger",
   "metadata": {},
   "outputs": [
    {
     "data": {
      "text/plain": [
       "True"
      ]
     },
     "execution_count": 13,
     "metadata": {},
     "output_type": "execute_result"
    }
   ],
   "source": [
    "is_numeric(1+1)"
   ]
  },
  {
   "cell_type": "code",
   "execution_count": 14,
   "id": "textile-scale",
   "metadata": {},
   "outputs": [],
   "source": [
    "class Question:\n",
    "    \"\"\"A Question is used to partition a dataset.\n",
    "\n",
    "    This class just records a 'column number' (e.g., 0 for Color) and a\n",
    "    'column value' (e.g., Green). The 'match' method is used to compare\n",
    "    the feature value in an example to the feature value stored in the\n",
    "    question. See the demo below.\n",
    "    \"\"\"\n",
    "\n",
    "    def __init__(self, column, value):\n",
    "        self.column = column\n",
    "        self.value = value\n",
    "\n",
    "    def moreless(self, example):\n",
    "        # Compare the feature value in an example to the\n",
    "        # feature value in this question.\n",
    "        val = example[self.column]\n",
    "        if is_numeric(val):\n",
    "            return val >= self.value\n",
    "        else:\n",
    "            return val == self.value\n",
    "\n",
    "    def __repr__(self):\n",
    "        # This is just a helper method to print\n",
    "        # the question in a readable format.\n",
    "        condition = \"==\"\n",
    "        if is_numeric(self.value):\n",
    "            condition = \">=\"\n",
    "        return \"Is %s %s %s?\" % (\n",
    "            header[self.column], condition, str(self.value))"
   ]
  },
  {
   "cell_type": "code",
   "execution_count": 15,
   "id": "premier-purple",
   "metadata": {},
   "outputs": [
    {
     "data": {
      "text/plain": [
       "Is Temp >= 3?"
      ]
     },
     "execution_count": 15,
     "metadata": {},
     "output_type": "execute_result"
    }
   ],
   "source": [
    "Question(1, 3)"
   ]
  },
  {
   "cell_type": "code",
   "execution_count": null,
   "id": "spectacular-forty",
   "metadata": {},
   "outputs": [],
   "source": []
  }
 ],
 "metadata": {
  "kernelspec": {
   "display_name": "Python 3",
   "language": "python",
   "name": "python3"
  },
  "language_info": {
   "codemirror_mode": {
    "name": "ipython",
    "version": 3
   },
   "file_extension": ".py",
   "mimetype": "text/x-python",
   "name": "python",
   "nbconvert_exporter": "python",
   "pygments_lexer": "ipython3",
   "version": "3.9.2"
  }
 },
 "nbformat": 4,
 "nbformat_minor": 5
}
